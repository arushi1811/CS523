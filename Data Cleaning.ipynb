{
 "cells": [
  {
   "cell_type": "code",
   "execution_count": 203,
   "id": "43a9c010",
   "metadata": {},
   "outputs": [],
   "source": [
    "import pandas as pd"
   ]
  },
  {
   "cell_type": "code",
   "execution_count": 243,
   "id": "27234b45",
   "metadata": {},
   "outputs": [],
   "source": [
    "df = pd.read_csv(\"half7.csv\") "
   ]
  },
  {
   "cell_type": "code",
   "execution_count": 244,
   "id": "c52a215d",
   "metadata": {},
   "outputs": [],
   "source": [
    "df.drop(columns=\"Unnamed: 0\", inplace=True)\n"
   ]
  },
  {
   "cell_type": "code",
   "execution_count": 245,
   "id": "078d24c6",
   "metadata": {},
   "outputs": [
    {
     "data": {
      "text/plain": [
       "LocalTime    01/01/06 08:00\n",
       "Power(MW)               7.0\n",
       "latitute              30.65\n",
       "longitude            -87.65\n",
       "UPV/DPV                 DPV\n",
       "Capacity               36MW\n",
       "State                    al\n",
       "Name: 100, dtype: object"
      ]
     },
     "execution_count": 245,
     "metadata": {},
     "output_type": "execute_result"
    }
   ],
   "source": [
    "df.loc[100] #ensure columns exist"
   ]
  },
  {
   "cell_type": "code",
   "execution_count": 247,
   "id": "eb56b6e7",
   "metadata": {},
   "outputs": [],
   "source": [
    "year1 = pd.DataFrame(columns = df.columns) #empty df "
   ]
  },
  {
   "cell_type": "code",
   "execution_count": 248,
   "id": "0c02544c",
   "metadata": {},
   "outputs": [],
   "source": [
    "for i in range(0, int(df.shape[0]/288)):\n",
    "    first = (df.loc[i*288][\"LocalTime\"])[0:8]\n",
    "    sec = (df.loc[i*288:i*288+288-1].mean())\n",
    "    third = df.loc[i*288][\"UPV/DPV\"]\n",
    "    fourth = df.loc[i*288][\"Capacity\"]\n",
    "    fifth = df.loc[i*288][\"State\"]\n",
    "    arr =[first, sec[0], sec[1], sec[2], third, fourth, fifth]\n",
    "    year1.loc[i] = arr"
   ]
  },
  {
   "cell_type": "code",
   "execution_count": 72,
   "id": "a74074bc",
   "metadata": {},
   "outputs": [],
   "source": [
    "temp = pd.read_csv(\"temp.csv\") #read temp file"
   ]
  },
  {
   "cell_type": "code",
   "execution_count": 73,
   "id": "fbeb28ba",
   "metadata": {},
   "outputs": [],
   "source": [
    "temp.drop(columns=\"Unnamed: 0\", inplace=True)"
   ]
  },
  {
   "cell_type": "code",
   "execution_count": 149,
   "id": "83ceda39",
   "metadata": {},
   "outputs": [],
   "source": [
    "prcp = pd.read_csv(\"prcp.csv\") #read prcp file"
   ]
  },
  {
   "cell_type": "code",
   "execution_count": 158,
   "id": "434142ab",
   "metadata": {},
   "outputs": [],
   "source": [
    "prcp.rename(columns={'mt':\"mt-east\"}, inplace=True)\n",
    "temp.rename(columns={'mt':\"mt-east\"}, inplace=True)"
   ]
  },
  {
   "cell_type": "code",
   "execution_count": 252,
   "id": "97a95f17",
   "metadata": {},
   "outputs": [],
   "source": [
    "st = year1[\"State\"].unique() #find unique states and iterate over states that exist in dataset"
   ]
  },
  {
   "cell_type": "code",
   "execution_count": 253,
   "id": "180ea66d",
   "metadata": {},
   "outputs": [
    {
     "data": {
      "text/plain": [
       "array(['al', 'ar', 'ct', 'de', 'fl', 'ga', 'ia', 'il', 'in', 'ks', 'ky',\n",
       "       'la', 'ma', 'md', 'mi', 'mo', 'ms', 'nc', 'ne', 'nh'], dtype=object)"
      ]
     },
     "execution_count": 253,
     "metadata": {},
     "output_type": "execute_result"
    }
   ],
   "source": [
    "st"
   ]
  },
  {
   "cell_type": "code",
   "execution_count": 251,
   "id": "71052031",
   "metadata": {},
   "outputs": [
    {
     "data": {
      "text/plain": [
       "20"
      ]
     },
     "execution_count": 251,
     "metadata": {},
     "output_type": "execute_result"
    }
   ],
   "source": [
    "len(st)"
   ]
  },
  {
   "cell_type": "code",
   "execution_count": 242,
   "id": "e9911c06",
   "metadata": {},
   "outputs": [
    {
     "name": "stderr",
     "output_type": "stream",
     "text": [
      "/share/pkg.7/python3/3.8.10/install/lib/python3.8/site-packages/pandas/core/frame.py:4308: SettingWithCopyWarning: \n",
      "A value is trying to be set on a copy of a slice from a DataFrame\n",
      "\n",
      "See the caveats in the documentation: https://pandas.pydata.org/pandas-docs/stable/user_guide/indexing.html#returning-a-view-versus-a-copy\n",
      "  return super().drop(\n"
     ]
    }
   ],
   "source": [
    "j = 122 #j is the batch number, divide everything in batches by joining temp and prcp\n",
    "for i in range():\n",
    "    b = year1[year1[\"State\"]==st[i]]\n",
    "    b.reset_index(inplace=True)\n",
    "    b.drop(columns=\"index\", inplace=True)\n",
    "    b = b.join(temp[[st[i]]], how=\"outer\")\n",
    "    b.rename(columns={st[i]:\"Temp\"}, inplace=True)\n",
    "    b = b.join(prcp[[st[i]]], how=\"outer\")\n",
    "    b.rename(columns={st[i]:\"Prcp\"}, inplace=True)\n",
    "    b.to_csv(\"batch\"+str(j)+\".csv\")\n",
    "    j+=1"
   ]
  },
  {
   "cell_type": "code",
   "execution_count": null,
   "id": "d7a61f09",
   "metadata": {},
   "outputs": [],
   "source": []
  }
 ],
 "metadata": {
  "kernelspec": {
   "display_name": "Python 3",
   "language": "python",
   "name": "python3"
  },
  "language_info": {
   "codemirror_mode": {
    "name": "ipython",
    "version": 3
   },
   "file_extension": ".py",
   "mimetype": "text/x-python",
   "name": "python",
   "nbconvert_exporter": "python",
   "pygments_lexer": "ipython3",
   "version": "3.8.10"
  }
 },
 "nbformat": 4,
 "nbformat_minor": 5
}
